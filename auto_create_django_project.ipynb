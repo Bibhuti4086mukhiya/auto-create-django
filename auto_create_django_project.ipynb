{
 "cells": [
  {
   "cell_type": "code",
   "execution_count": 5,
   "id": "fea327f3",
   "metadata": {},
   "outputs": [
    {
     "data": {
      "application/vnd.jupyter.widget-view+json": {
       "model_id": "0fd33acb98524dd08b81b36a084e59a7",
       "version_major": 2,
       "version_minor": 0
      },
      "text/plain": [
       "HBox(children=(Text(value='django_project', description='path:', placeholder='project name at last'), Button(d…"
      ]
     },
     "metadata": {},
     "output_type": "display_data"
    }
   ],
   "source": [
    "import ipywidgets as widgets\n",
    "from IPython.display import display\n",
    "from ipywidgets import HBox\n",
    "\n",
    "\n",
    "button = widgets.Button(description=\"create django project\")\n",
    "output = widgets.Output()\n",
    "\n",
    "import os\n",
    "\n",
    "h=widgets.Text(\n",
    "    value='django_project',\n",
    "    placeholder='project name at last',\n",
    "    description='path:',\n",
    "    disabled=False   \n",
    ")\n",
    "\n",
    "def Button_func(b):\n",
    "    with output:\n",
    "        project_name=os.path.split(h.value)\n",
    "        if project_name[0]=='':\n",
    "            os.chdir(\"pwd\")\n",
    "            os.system(f\"django-admin startproject {project_name[1]}\")\n",
    "        else:\n",
    "            print(os.chdir(f'{project_name[0]}'))\n",
    "            os.system(f\"django-admin startproject {project_name[1]}\")\n",
    "\n",
    "display(HBox([h,button]))\n",
    "button.on_click(Button_func)\n"
   ]
  },
  {
   "cell_type": "code",
   "execution_count": 32,
   "id": "e46a9820",
   "metadata": {},
   "outputs": [
    {
     "data": {
      "text/plain": [
       "'C:\\\\Users\\\\Dell\\\\Desktop\\\\storage\\\\timeline\\\\2023\\\\april\\\\projects\\\\automate-create-project'"
      ]
     },
     "execution_count": 32,
     "metadata": {},
     "output_type": "execute_result"
    }
   ],
   "source": [
    "os.getcwd()"
   ]
  },
  {
   "cell_type": "code",
   "execution_count": 13,
   "id": "95603fc5",
   "metadata": {},
   "outputs": [
    {
     "data": {
      "text/plain": [
       "'C:\\\\Users\\\\Dell\\\\Desktop\\\\storage\\\\timeline\\\\2023\\\\april\\\\projects\\\\automate-create-project'"
      ]
     },
     "execution_count": 13,
     "metadata": {},
     "output_type": "execute_result"
    }
   ],
   "source": [
    "pwd"
   ]
  },
  {
   "cell_type": "code",
   "execution_count": null,
   "id": "cc16eee0",
   "metadata": {},
   "outputs": [],
   "source": [
    "conda update conda"
   ]
  }
 ],
 "metadata": {
  "kernelspec": {
   "display_name": "Python 3 (ipykernel)",
   "language": "python",
   "name": "python3"
  },
  "language_info": {
   "codemirror_mode": {
    "name": "ipython",
    "version": 3
   },
   "file_extension": ".py",
   "mimetype": "text/x-python",
   "name": "python",
   "nbconvert_exporter": "python",
   "pygments_lexer": "ipython3",
   "version": "3.9.12"
  }
 },
 "nbformat": 4,
 "nbformat_minor": 5
}
